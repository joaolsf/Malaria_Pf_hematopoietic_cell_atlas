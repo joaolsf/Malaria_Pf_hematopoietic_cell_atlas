{
 "cells": [
  {
   "cell_type": "markdown",
   "id": "f93400a9",
   "metadata": {},
   "source": [
    "# Import libraries and setup"
   ]
  },
  {
   "cell_type": "code",
   "execution_count": 1,
   "id": "389cfa0b",
   "metadata": {},
   "outputs": [
    {
     "name": "stderr",
     "output_type": "stream",
     "text": [
      "/Users/joaoluizsfilho/opt/anaconda3/envs/Squidpy/lib/python3.9/site-packages/numba/np/ufunc/parallel.py:371: NumbaWarning: \u001b[1mThe TBB threading layer requires TBB version 2021 update 6 or later i.e., TBB_INTERFACE_VERSION >= 12060. Found TBB_INTERFACE_VERSION = 12050. The TBB threading layer is disabled.\u001b[0m\n",
      "  warnings.warn(problem)\n",
      "OMP: Info #276: omp_set_nested routine deprecated, please use omp_set_max_active_levels instead.\n",
      "/Users/joaoluizsfilho/opt/anaconda3/envs/Squidpy/lib/python3.9/site-packages/loompy/bus_file.py:68: NumbaDeprecationWarning: \u001b[1mThe 'nopython' keyword argument was not supplied to the 'numba.jit' decorator. The implicit default value for this argument is currently False, but it will be changed to True in Numba 0.59.0. See https://numba.readthedocs.io/en/stable/reference/deprecation.html#deprecation-of-object-mode-fall-back-behaviour-when-using-jit for details.\u001b[0m\n",
      "  def twobit_to_dna(twobit: int, size: int) -> str:\n",
      "/Users/joaoluizsfilho/opt/anaconda3/envs/Squidpy/lib/python3.9/site-packages/loompy/bus_file.py:85: NumbaDeprecationWarning: \u001b[1mThe 'nopython' keyword argument was not supplied to the 'numba.jit' decorator. The implicit default value for this argument is currently False, but it will be changed to True in Numba 0.59.0. See https://numba.readthedocs.io/en/stable/reference/deprecation.html#deprecation-of-object-mode-fall-back-behaviour-when-using-jit for details.\u001b[0m\n",
      "  def dna_to_twobit(dna: str) -> int:\n",
      "/Users/joaoluizsfilho/opt/anaconda3/envs/Squidpy/lib/python3.9/site-packages/loompy/bus_file.py:102: NumbaDeprecationWarning: \u001b[1mThe 'nopython' keyword argument was not supplied to the 'numba.jit' decorator. The implicit default value for this argument is currently False, but it will be changed to True in Numba 0.59.0. See https://numba.readthedocs.io/en/stable/reference/deprecation.html#deprecation-of-object-mode-fall-back-behaviour-when-using-jit for details.\u001b[0m\n",
      "  def twobit_1hamming(twobit: int, size: int) -> List[int]:\n",
      "/Users/joaoluizsfilho/opt/anaconda3/envs/Squidpy/lib/python3.9/site-packages/umap/distances.py:1063: NumbaDeprecationWarning: \u001b[1mThe 'nopython' keyword argument was not supplied to the 'numba.jit' decorator. The implicit default value for this argument is currently False, but it will be changed to True in Numba 0.59.0. See https://numba.readthedocs.io/en/stable/reference/deprecation.html#deprecation-of-object-mode-fall-back-behaviour-when-using-jit for details.\u001b[0m\n",
      "  @numba.jit()\n",
      "/Users/joaoluizsfilho/opt/anaconda3/envs/Squidpy/lib/python3.9/site-packages/umap/distances.py:1071: NumbaDeprecationWarning: \u001b[1mThe 'nopython' keyword argument was not supplied to the 'numba.jit' decorator. The implicit default value for this argument is currently False, but it will be changed to True in Numba 0.59.0. See https://numba.readthedocs.io/en/stable/reference/deprecation.html#deprecation-of-object-mode-fall-back-behaviour-when-using-jit for details.\u001b[0m\n",
      "  @numba.jit()\n",
      "/Users/joaoluizsfilho/opt/anaconda3/envs/Squidpy/lib/python3.9/site-packages/umap/distances.py:1086: NumbaDeprecationWarning: \u001b[1mThe 'nopython' keyword argument was not supplied to the 'numba.jit' decorator. The implicit default value for this argument is currently False, but it will be changed to True in Numba 0.59.0. See https://numba.readthedocs.io/en/stable/reference/deprecation.html#deprecation-of-object-mode-fall-back-behaviour-when-using-jit for details.\u001b[0m\n",
      "  @numba.jit()\n",
      "/Users/joaoluizsfilho/opt/anaconda3/envs/Squidpy/lib/python3.9/site-packages/umap/umap_.py:660: NumbaDeprecationWarning: \u001b[1mThe 'nopython' keyword argument was not supplied to the 'numba.jit' decorator. The implicit default value for this argument is currently False, but it will be changed to True in Numba 0.59.0. See https://numba.readthedocs.io/en/stable/reference/deprecation.html#deprecation-of-object-mode-fall-back-behaviour-when-using-jit for details.\u001b[0m\n",
      "  @numba.jit()\n"
     ]
    }
   ],
   "source": [
    "# Import libraries we may need\n",
    "import scanpy as sc\n",
    "import numpy as np\n",
    "import scipy as sp\n",
    "import pandas as pd\n",
    "import matplotlib.pyplot as plt\n",
    "from matplotlib import rcParams\n",
    "from matplotlib import colors\n",
    "import seaborn as sb\n",
    "import scanpy.external as sce\n",
    "import wget\n",
    "import yaml\n",
    "import wget\n",
    "import astir\n",
    "import dill\n",
    "import umap\n",
    "reducer = umap.UMAP()\n",
    "import statsmodels as sm\n",
    "import anndata as ad\n",
    "\n",
    "#Packages to do Elbow analysis\n",
    "from sklearn.cluster import KMeans\n",
    "from yellowbrick.cluster import KElbowVisualizer\n",
    "\n",
    "#To display multiple dataframes in same output\n",
    "from IPython.display import display\n",
    "\n",
    "#Loading bar functionality for long tasks\n",
    "from tqdm import tqdm\n",
    "\n",
    "#For multiprocessing\n",
    "from functools import partial\n",
    "from multiprocessing import Pool\n",
    "\n",
    "#My module for importing IMC data into AnnData format\n",
    "import mikeimc as mimc\n",
    "import mikeimc_v2 as mikeimc_v2\n",
    "\n",
    "import imc_import\n",
    "#import utils\n",
    "#import pop_id\n"
   ]
  },
  {
   "cell_type": "code",
   "execution_count": 2,
   "id": "26a8b227",
   "metadata": {},
   "outputs": [],
   "source": [
    "# Set up output figure settings\n",
    "plt.rcParams['figure.figsize']=(64,64) #rescale figures, increase sizehere\n",
    "\n",
    "# Set up scanpy settings\n",
    "sc.settings.verbosity = 3\n",
    "sc.set_figure_params(dpi=100, dpi_save=300) #Increase DPI for better resolution figures\n",
    "#sc.logging.print_versions()"
   ]
  },
  {
   "cell_type": "markdown",
   "id": "dc0281c4",
   "metadata": {},
   "source": [
    "# Save / restore environemnt\n",
    "Use these functions to either save or load the environmental variables, otherwise you will lose all the objects between opening/closing Jupyter sessions!"
   ]
  },
  {
   "cell_type": "code",
   "execution_count": null,
   "id": "ecfe3dc8",
   "metadata": {},
   "outputs": [],
   "source": [
    "#load the session\n",
    "dill.load_session('DC_ASTIR_Pf_spleen_Malawi.db')"
   ]
  },
  {
   "cell_type": "code",
   "execution_count": null,
   "id": "591176c1",
   "metadata": {},
   "outputs": [],
   "source": [
    "#save the session\n",
    "dill.dump_session('DC_ASTIR_Pf_spleen_Malawi.db')"
   ]
  },
  {
   "cell_type": "markdown",
   "id": "200d775c",
   "metadata": {},
   "source": [
    "# Load/save anndata object"
   ]
  },
  {
   "cell_type": "markdown",
   "id": "1e67f8a3",
   "metadata": {},
   "source": [
    "Save adata object\n",
    "This will save the adata object in the current directory as a file called 'adata'"
   ]
  },
  {
   "cell_type": "markdown",
   "id": "38fbd8f0",
   "metadata": {},
   "source": [
    "Load adata\n",
    "This will open up a stored adata object (from the 'raw' directory)"
   ]
  },
  {
   "cell_type": "code",
   "execution_count": null,
   "id": "8ad28d84",
   "metadata": {},
   "outputs": [],
   "source": [
    "adata_subset.write('./2_h5ad_files/IMC_Pf_spleen.h5ad')"
   ]
  },
  {
   "cell_type": "code",
   "execution_count": null,
   "id": "94f21fc3",
   "metadata": {},
   "outputs": [],
   "source": [
    "adata_subset = ad.read_h5ad('./2_h5ad_files/IMC_Pf_spleen.h5ad')"
   ]
  },
  {
   "cell_type": "markdown",
   "id": "b0d100f2",
   "metadata": {},
   "source": [
    "# Importing data and setup"
   ]
  },
  {
   "cell_type": "code",
   "execution_count": null,
   "id": "e282b3f1",
   "metadata": {},
   "outputs": [],
   "source": [
    "#This approach of generating adata is different from the approach below and it uses different input files.\n",
    "\n",
    "from importlib import reload\n",
    "mimc = reload(mimc)\n",
    "\n",
    "adata1, df_misc = mimc.celltable_to_adata(column_properties='1_CSV_files/DC_columns_final.csv', #Contents define how the columns in the cell table should be handled\n",
    "                                                cell_table='1_CSV_files/objects1.csv', #The full cell table as exported by whatever cell segmentation pipeline\n",
    "                                                dictionary='1_CSV_files/dictionary1.csv', #If this is specified, it will add extra observations based upon the ROI, e.g. what group/patient/treatment it came from\n",
    "                                                marker_normalisation='99th', #Marker normalisation, by default will be None\n",
    "                                                misc_table=True) #Whether or not a second dataframe of 'misc' findings will be imported"
   ]
  },
  {
   "cell_type": "code",
   "execution_count": null,
   "id": "822575f2",
   "metadata": {},
   "outputs": [],
   "source": [
    "adata2, df_misc = mimc.celltable_to_adata(column_properties='1_CSV_files/DC_columns_final.csv', #Contents define how the columns in the cell table should be handled\n",
    "                                                cell_table='1_CSV_files/objects2.csv', #The full cell table as exported by whatever cell segmentation pipeline\n",
    "                                                dictionary='1_CSV_files/dictionary2.csv', #If this is specified, it will add extra observations based upon the ROI, e.g. what group/patient/treatment it came from\n",
    "                                                marker_normalisation='99th', #Marker normalisation, by default will be None\n",
    "                                                misc_table=True) #Whether or not a second dataframe of 'misc' findings will be imported"
   ]
  },
  {
   "cell_type": "code",
   "execution_count": null,
   "id": "385c3050",
   "metadata": {},
   "outputs": [],
   "source": [
    "adata1"
   ]
  },
  {
   "cell_type": "code",
   "execution_count": null,
   "id": "bdd50549",
   "metadata": {
    "scrolled": true
   },
   "outputs": [],
   "source": [
    "adata2"
   ]
  },
  {
   "cell_type": "code",
   "execution_count": null,
   "id": "ac447439",
   "metadata": {},
   "outputs": [],
   "source": [
    "adata_list = adata1, adata2"
   ]
  },
  {
   "cell_type": "code",
   "execution_count": null,
   "id": "04ef7a8a",
   "metadata": {},
   "outputs": [],
   "source": [
    "adata_list"
   ]
  },
  {
   "cell_type": "code",
   "execution_count": null,
   "id": "b51748f1",
   "metadata": {
    "scrolled": false
   },
   "outputs": [],
   "source": [
    "adata = ad.concat(adata_list, merge='same')"
   ]
  },
  {
   "cell_type": "code",
   "execution_count": null,
   "id": "3403564f",
   "metadata": {},
   "outputs": [],
   "source": [
    "adata"
   ]
  },
  {
   "cell_type": "code",
   "execution_count": null,
   "id": "c0d45899",
   "metadata": {},
   "outputs": [],
   "source": [
    "all_markers = adata.var_names.tolist()\n",
    "print ('List of all markers found:')\n",
    "print (all_markers,end= '\\n\\n')\n",
    "\n",
    "#skipe this step: Change this with a list of the markers you'd like to be remove entirely from the dataset, e.g. DNA stains\n",
    "markers_to_remove = ['DNA3']\n",
    "\n",
    "#Remove markers from list\n",
    "markers_limited = [m for m in all_markers if m not in markers_to_remove]\n",
    "\n",
    "#print ('List of all markers with removed items:')\n",
    "print (markers_limited)"
   ]
  },
  {
   "cell_type": "code",
   "execution_count": null,
   "id": "21388b19",
   "metadata": {},
   "outputs": [],
   "source": [
    "#Filter to only markers specified above\n",
    "adata_filtered = adata[:,markers_limited]\n",
    "#The .copy() makes a completely seperate copy\n",
    "adata_subset = adata_filtered.copy()\n",
    "#This code further filters the data by removing cells from C10, C31 ROIs and C21_ROI3\n",
    "#adata_subset = adata_filtered[~adata_filtered.obs['ROI'].isin(['C10_ROI1','C10_ROI2','C10_ROI3', 'C10_ROI4', 'C21_ROI3', 'C31_ROI1', 'C31_ROI2', 'C31_ROI3', 'C31_ROI4']),:].copy()\n",
    "\n",
    "adata_subset.var_names"
   ]
  },
  {
   "cell_type": "code",
   "execution_count": null,
   "id": "7a857c5b",
   "metadata": {},
   "outputs": [],
   "source": [
    "adata_subset"
   ]
  },
  {
   "cell_type": "markdown",
   "id": "82c166d4",
   "metadata": {},
   "source": [
    "# Importing REDSEA-corrected data"
   ]
  },
  {
   "cell_type": "code",
   "execution_count": null,
   "id": "16cbeb8b",
   "metadata": {},
   "outputs": [],
   "source": [
    "#This approach of generating adata is different from the approach below and it uses different input files.\n",
    "\n",
    "from importlib import reload\n",
    "mimc = reload(mimc)\n",
    "\n",
    "adata1, df_misc = mimc.celltable_to_adata(column_properties='1_CSV_files/DC_columns_final_redsea.csv', #Contents define how the columns in the cell table should be handled\n",
    "                                                cell_table='1_CSV_files/objects1_redsea.csv', #The full cell table as exported by whatever cell segmentation pipeline\n",
    "                                                dictionary='1_CSV_files/dictionary1_redsea.csv', #If this is specified, it will add extra observations based upon the ROI, e.g. what group/patient/treatment it came from\n",
    "                                                marker_normalisation='99th', #Marker normalisation, by default will be None\n",
    "                                                misc_table=True) #Whether or not a second dataframe of 'misc' findings will be imported\n",
    "\n",
    "adata2, df_misc = mimc.celltable_to_adata(column_properties='1_CSV_files/DC_columns_final_redsea.csv', #Contents define how the columns in the cell table should be handled\n",
    "                                                cell_table='1_CSV_files/objects2_redsea.csv', #The full cell table as exported by whatever cell segmentation pipeline\n",
    "                                                dictionary='1_CSV_files/dictionary2_redsea.csv', #If this is specified, it will add extra observations based upon the ROI, e.g. what group/patient/treatment it came from\n",
    "                                                marker_normalisation='99th', #Marker normalisation, by default will be None\n",
    "                                                misc_table=True) #Whether or not a second dataframe of 'misc' findings will be imported"
   ]
  },
  {
   "cell_type": "code",
   "execution_count": null,
   "id": "462dc90d",
   "metadata": {},
   "outputs": [],
   "source": [
    "adata1"
   ]
  },
  {
   "cell_type": "code",
   "execution_count": null,
   "id": "e62c7f4e",
   "metadata": {},
   "outputs": [],
   "source": [
    "adata2"
   ]
  },
  {
   "cell_type": "code",
   "execution_count": null,
   "id": "234620b3",
   "metadata": {},
   "outputs": [],
   "source": [
    "adata_list = adata1, adata2"
   ]
  },
  {
   "cell_type": "code",
   "execution_count": null,
   "id": "23a52a3c",
   "metadata": {},
   "outputs": [],
   "source": [
    "adata_list"
   ]
  },
  {
   "cell_type": "code",
   "execution_count": null,
   "id": "a977adf2",
   "metadata": {},
   "outputs": [],
   "source": [
    "adata = ad.concat(adata_list, merge='same')"
   ]
  },
  {
   "cell_type": "code",
   "execution_count": null,
   "id": "8b7759a8",
   "metadata": {},
   "outputs": [],
   "source": [
    "adata"
   ]
  },
  {
   "cell_type": "code",
   "execution_count": null,
   "id": "3f27853c",
   "metadata": {},
   "outputs": [],
   "source": [
    "all_markers = adata.var_names.tolist()\n",
    "print ('List of all markers found:')\n",
    "print (all_markers,end= '\\n\\n')\n",
    "\n",
    "#skipe this step: Change this with a list of the markers you'd like to be remove entirely from the dataset, e.g. DNA stains\n",
    "markers_to_remove = ['DNA3']\n",
    "\n",
    "#Remove markers from list\n",
    "markers_limited = [m for m in all_markers if m not in markers_to_remove]\n",
    "\n",
    "#print ('List of all markers with removed items:')\n",
    "print (markers_limited)"
   ]
  },
  {
   "cell_type": "code",
   "execution_count": null,
   "id": "bf67a75d",
   "metadata": {},
   "outputs": [],
   "source": [
    "#Filter to only markers specified above\n",
    "adata_filtered = adata[:,markers_limited]\n",
    "#The .copy() makes a completely seperate copy\n",
    "adata_subset = adata_filtered.copy()\n",
    "#This code further filters the data by removing cells from C10, C31 ROIs and C21_ROI3\n",
    "#adata_subset = adata_filtered[~adata_filtered.obs['ROI'].isin(['C10_ROI1','C10_ROI2','C10_ROI3', 'C10_ROI4', 'C21_ROI3', 'C31_ROI1', 'C31_ROI2', 'C31_ROI3', 'C31_ROI4']),:].copy()\n",
    "\n",
    "adata_subset.var_names"
   ]
  },
  {
   "cell_type": "code",
   "execution_count": 3,
   "id": "f932ac70",
   "metadata": {
    "scrolled": false
   },
   "outputs": [
    {
     "name": "stderr",
     "output_type": "stream",
     "text": [
      "/Users/joaoluizsfilho/opt/anaconda3/envs/Squidpy/lib/python3.9/site-packages/anndata/_core/anndata.py:1838: UserWarning: Observation names are not unique. To make them unique, call `.obs_names_make_unique`.\n",
      "  utils.warn_names_duplicates(\"obs\")\n"
     ]
    }
   ],
   "source": [
    "adata_subset = ad.read_h5ad('./2_h5ad_files/IMC_Pf_spleen_redsea_corrected_complete.h5ad')  #full dataset"
   ]
  },
  {
   "cell_type": "code",
   "execution_count": null,
   "id": "5e2af1a9",
   "metadata": {},
   "outputs": [],
   "source": [
    "adata_subset.write('./2_h5ad_files/IMC_Pf_spleen_redsea_corrected_complete.h5ad')  #full dataset"
   ]
  },
  {
   "cell_type": "code",
   "execution_count": 4,
   "id": "2dfaa850",
   "metadata": {},
   "outputs": [
    {
     "data": {
      "text/plain": [
       "AnnData object with n_obs × n_vars = 1486804 × 41\n",
       "    obs: 'Master_Index', 'ROI', 'Patient', 'Group', 'X_loc', 'Y_loc', 'leiden_0.3', 'population', 'hierarchy', 'cell_type_astir', 'hierarchy_astir', 'umap_density_Patient', '_scvi_batch', '_scvi_labels'\n",
       "    uns: 'Group_colors', 'Patient_colors', '_scvi_manager_uuid', '_scvi_uuid', 'dendrogram_leiden_0.3', 'dendrogram_population', 'leiden', 'leiden_0.3_colors', 'neighbors', 'pca', 'population_colors', 'umap', 'umap_density_Patient_params'\n",
       "    obsm: 'X_pca', 'X_pca_harmony', 'X_scANVI', 'X_scVI', 'X_umap', 'spatial'\n",
       "    varm: 'PCs'\n",
       "    layers: 'counts'\n",
       "    obsp: 'connectivities', 'distances'"
      ]
     },
     "execution_count": 4,
     "metadata": {},
     "output_type": "execute_result"
    }
   ],
   "source": [
    "adata_subset"
   ]
  },
  {
   "cell_type": "code",
   "execution_count": null,
   "id": "d863acca",
   "metadata": {},
   "outputs": [],
   "source": [
    "adata_subset2.write('./2_h5ad_files/IMC_Pf_spleen_redsea_corrected_after_astir.h5ad')  #does not contain unknonw cells from astir"
   ]
  },
  {
   "cell_type": "code",
   "execution_count": null,
   "id": "a5b662b5",
   "metadata": {},
   "outputs": [],
   "source": [
    "adata_subset2 = ad.read_h5ad('./2_h5ad_files/IMC_Pf_spleen_redsea_corrected_after_astir.h5ad') #does not contain unknonw cells from astir"
   ]
  },
  {
   "cell_type": "code",
   "execution_count": null,
   "id": "bd2fc215",
   "metadata": {},
   "outputs": [],
   "source": [
    "adata_subset2"
   ]
  },
  {
   "cell_type": "code",
   "execution_count": null,
   "id": "6651ccb5",
   "metadata": {},
   "outputs": [],
   "source": [
    "#test ASTIR again after removing ROIs with low numbers of assigned cells\n",
    "adata_subset3 = adata_subset.copy()\n",
    "adata_subset3 = adata_subset3[~adata_subset3.obs['Patient'].isin(['PM41','PM64', \"PM69\", \"PM88\", \"PM101\"]),:].copy()\n"
   ]
  },
  {
   "cell_type": "code",
   "execution_count": null,
   "id": "d84f6a34",
   "metadata": {},
   "outputs": [],
   "source": [
    "adata_subset3"
   ]
  },
  {
   "cell_type": "markdown",
   "id": "22c33341",
   "metadata": {},
   "source": [
    "# QC Checking data"
   ]
  },
  {
   "cell_type": "code",
   "execution_count": null,
   "id": "6e08426f",
   "metadata": {
    "scrolled": true
   },
   "outputs": [],
   "source": [
    "sc.pl.matrixplot(adata_subset, adata_subset.var_names, groupby='Patient', swap_axes=False, save='QC_Patient_redsea.png')\n",
    "\n",
    "#Number of cells per ROI\n",
    "#print(adata_subset.obs['ROI'].value_counts())"
   ]
  },
  {
   "cell_type": "markdown",
   "id": "fa7614a6",
   "metadata": {},
   "source": [
    "# Batch correction/Integration"
   ]
  },
  {
   "cell_type": "markdown",
   "id": "9e6a311a",
   "metadata": {},
   "source": [
    "# Unintegrated data"
   ]
  },
  {
   "cell_type": "code",
   "execution_count": null,
   "id": "31f19dc8",
   "metadata": {},
   "outputs": [],
   "source": [
    "#Show those markers that yield the highest fraction of counts in each single cell, across all cells.\\\n",
    "sc.pl.highest_expr_genes(adata_subset, n_top=20, )\n",
    "\n",
    "#Identify highly-variable markers:\n",
    "sc.pp.highly_variable_genes(adata_subset, min_mean=0.0125, max_mean=3, min_disp=0.5)\n",
    "sc.pl.highly_variable_genes(adata_subset)    "
   ]
  },
  {
   "cell_type": "code",
   "execution_count": null,
   "id": "e1a22cbb",
   "metadata": {
    "scrolled": true
   },
   "outputs": [],
   "source": [
    "#Calculate PCA - this must be done first\n",
    "#sc.tl.pca(adata_subset)\n",
    "#sc.pp.neighbors(adata_subset)\n",
    "#sc.tl.umap(adata_subset)\n",
    "sc.pl.umap(adata_subset, size =1, color=\"Group\", save = \"unintegrated_complete_dataset_group.pdf\")\n",
    "adata_subset"
   ]
  },
  {
   "cell_type": "code",
   "execution_count": null,
   "id": "af8a5e08",
   "metadata": {},
   "outputs": [],
   "source": [
    "sc.tl.embedding_density(adata_subset, groupby='Patient')"
   ]
  },
  {
   "cell_type": "code",
   "execution_count": null,
   "id": "78f90f0c",
   "metadata": {},
   "outputs": [],
   "source": [
    "sc.pl.embedding_density(adata_subset, groupby='Patient', save='_unintegrated_density.pdf')"
   ]
  },
  {
   "cell_type": "markdown",
   "id": "b860d5df",
   "metadata": {},
   "source": [
    "BBKNN\n",
    "\n",
    "This will batch correct using BBKNN. There are other options batch correction, such as Harmony, but I found this the easiest to implement. Read more here: https://bodenmillergroup.github.io/IMCDataAnalysis/batch-effects.html"
   ]
  },
  {
   "cell_type": "markdown",
   "id": "68a839b0",
   "metadata": {},
   "source": [
    "Run PCA and BBKNN\n",
    "batch_correction_obs -This defines which .obs should be used to identify the different batches, in the example here it is 'Case'"
   ]
  },
  {
   "cell_type": "code",
   "execution_count": null,
   "id": "7ba75e22",
   "metadata": {},
   "outputs": [],
   "source": [
    "# Define the number of PCA dimensions to work with - one less than number of markers. Without this, it usually defaults to 50, which we don't have enough markers for.\n",
    "n_for_pca = len(adata_subset.var_names)-1\n",
    "\n",
    "# Define the 'obs' which defines the different cases\n",
    "batch_correction_obs = 'Patient'\n",
    "\n",
    "# Calculate PCA, this must be done before BBKNN\n",
    "sc.tl.pca(adata_subset, n_comps=n_for_pca)\n",
    "\n",
    "# BBKNN - it is used in place of the scanpy 'neighbors' command that calculates nearest neighbours in the feature space\n",
    "# Unlike the default scanpy function, BBKNN does not allow specifying a key for storing results so they are always stored under the default “neighbors” key.\n",
    "sc.external.pp.bbknn(adata_subset, batch_key='Patient', n_pcs=n_for_pca)"
   ]
  },
  {
   "cell_type": "code",
   "execution_count": null,
   "id": "3ae7e477",
   "metadata": {},
   "outputs": [],
   "source": [
    "#Calculate UMAP based on neighbors calculated from BBKNN\n",
    "sc.tl.umap(adata_subset)"
   ]
  },
  {
   "cell_type": "code",
   "execution_count": null,
   "id": "c90616c6",
   "metadata": {},
   "outputs": [],
   "source": [
    "sc.pl.umap(adata_subset, size =1, color=batch_key, save = \"bbknn_integration_complete_dataset.pdf\")"
   ]
  },
  {
   "cell_type": "code",
   "execution_count": null,
   "id": "01ee8b8e",
   "metadata": {},
   "outputs": [],
   "source": [
    "sc.tl.embedding_density(adata_subset, groupby='Patient')"
   ]
  },
  {
   "cell_type": "code",
   "execution_count": null,
   "id": "c3f0e9f7",
   "metadata": {},
   "outputs": [],
   "source": [
    "sc.pl.embedding_density(adata_subset, groupby='Patient', save='_bbknn_density.pdf')"
   ]
  },
  {
   "cell_type": "code",
   "execution_count": null,
   "id": "c4a02e4d",
   "metadata": {
    "scrolled": true
   },
   "outputs": [],
   "source": [
    "adata_subset"
   ]
  },
  {
   "cell_type": "markdown",
   "id": "8e0736ed",
   "metadata": {},
   "source": [
    "Harmony"
   ]
  },
  {
   "cell_type": "code",
   "execution_count": null,
   "id": "ff18bdb8",
   "metadata": {
    "scrolled": false
   },
   "outputs": [],
   "source": [
    "sce.pp.harmony_integrate(adata_subset, 'Patient')"
   ]
  },
  {
   "cell_type": "code",
   "execution_count": null,
   "id": "efc8ecc5",
   "metadata": {
    "scrolled": false
   },
   "outputs": [],
   "source": [
    "#Calculate UMAP based on harmony integration\n",
    "sc.pp.neighbors(adata_subset, use_rep='X_pca_harmony')\n",
    "sc.tl.umap(adata_subset)"
   ]
  },
  {
   "cell_type": "markdown",
   "id": "b2f2c92d",
   "metadata": {},
   "source": [
    "Plot UMAPs\n",
    "You can add extra .obs to UMAP_groups to colour the UMAPs by, e.g. treatment"
   ]
  },
  {
   "cell_type": "code",
   "execution_count": null,
   "id": "780f3ef3",
   "metadata": {},
   "outputs": [],
   "source": [
    "#Define a list of .obs to colour the UMAP by\n",
    "UMAP_groups = ['Patient', 'Group'] \n",
    "\n",
    "# Plot UMAPs coloured by list aboveharmonya\n",
    "sc.pl.umap(adata_subset, s = 1, color=UMAP_groups, ncols=1, size=3, save='_harmony_redsea.pdf')"
   ]
  },
  {
   "cell_type": "code",
   "execution_count": null,
   "id": "4f0cddf0",
   "metadata": {},
   "outputs": [],
   "source": [
    "# This will plot a UMAP for each of the individual markers\n",
    "sc.pl.umap(adata_subset, s = 1, size = 1, color=adata_subset.var_names.tolist(), color_map='viridis', ncols=4, size=3)"
   ]
  },
  {
   "cell_type": "markdown",
   "id": "70b22836",
   "metadata": {},
   "source": [
    "Visualizing distributions across batches"
   ]
  },
  {
   "cell_type": "markdown",
   "id": "86ce9422",
   "metadata": {},
   "source": [
    "Often, batches correspond to experiments that one wants to compare. Scanpy offers to convenient visualization possibilities for this.\n",
    "\n",
    "a density plot\n",
    "a partial visualization of a subset of categories/groups in an emnbedding"
   ]
  },
  {
   "cell_type": "code",
   "execution_count": null,
   "id": "db337633",
   "metadata": {},
   "outputs": [],
   "source": [
    "adata_subset"
   ]
  },
  {
   "cell_type": "code",
   "execution_count": null,
   "id": "4bf1d577",
   "metadata": {},
   "outputs": [],
   "source": [
    "adata_subset.obs_names_make_unique"
   ]
  },
  {
   "cell_type": "code",
   "execution_count": null,
   "id": "e680821d",
   "metadata": {},
   "outputs": [],
   "source": [
    "#Density plot - it can be calculated for different columns in adata.obs\n",
    "sc.tl.embedding_density(adata_subset, groupby='Patient')"
   ]
  },
  {
   "cell_type": "code",
   "execution_count": null,
   "id": "0031bce8",
   "metadata": {},
   "outputs": [],
   "source": [
    "sc.pl.embedding_density(adata_subset, groupby='Patient', save='_harmony_density.pdf')"
   ]
  },
  {
   "cell_type": "markdown",
   "id": "16450e63",
   "metadata": {},
   "source": [
    "Partial visualizaton of a subset of groups in embedding"
   ]
  },
  {
   "cell_type": "code",
   "execution_count": null,
   "id": "c52289a1",
   "metadata": {},
   "outputs": [],
   "source": [
    "adata_subset.obs['CaseID']"
   ]
  },
  {
   "cell_type": "code",
   "execution_count": null,
   "id": "009ac95d",
   "metadata": {},
   "outputs": [],
   "source": [
    "adata_query = adata_subset[adata_subset.obs['CaseID'].isin(['COS-002-05-J1', 'COS-004-05-J1', 'COS-006-05-J1'])]\n",
    "\n",
    "for batch in ['COS-002-05-J1', 'COS-004-05-J1', 'COS-006-05-J1']:\n",
    "    sc.pl.umap(adata_query, color='CaseID', groups=[batch])"
   ]
  },
  {
   "cell_type": "markdown",
   "id": "b5461acd",
   "metadata": {},
   "source": [
    "Variational autoencoder (VAE) based integration"
   ]
  },
  {
   "cell_type": "markdown",
   "id": "96c6dadb",
   "metadata": {},
   "source": [
    "References: https://www.sc-best-practices.org/cellular_structure/integration.html#variational-autoencoder-vae-based-integration\n",
    "https://docs.scvi-tools.org/en/stable/tutorials/notebooks/api_overview.html"
   ]
  },
  {
   "cell_type": "code",
   "execution_count": 1,
   "id": "745ffe9e",
   "metadata": {},
   "outputs": [
    {
     "name": "stderr",
     "output_type": "stream",
     "text": [
      "Global seed set to 0\n"
     ]
    }
   ],
   "source": [
    "#Use scvi-env environment for this part of the analysis\n",
    "# Python packages\n",
    "import scanpy as sc\n",
    "import scvi\n",
    "import scib\n",
    "import numpy as np\n",
    "import pandas as pd\n",
    "import matplotlib.pyplot as plt\n",
    "import matplotlib\n",
    "import anndata as ad"
   ]
  },
  {
   "cell_type": "code",
   "execution_count": null,
   "id": "66ab4d79",
   "metadata": {},
   "outputs": [],
   "source": [
    "adata_scvi = adata_subset.copy()"
   ]
  },
  {
   "cell_type": "code",
   "execution_count": null,
   "id": "65c33203",
   "metadata": {},
   "outputs": [],
   "source": [
    "adata_scvi"
   ]
  },
  {
   "cell_type": "code",
   "execution_count": null,
   "id": "c4872ec0",
   "metadata": {},
   "outputs": [],
   "source": [
    "# Create layer counts\n",
    "adata_scvi.layers[\"counts\"]=adata_scvi.X.copy()"
   ]
  },
  {
   "cell_type": "code",
   "execution_count": null,
   "id": "ac4a099c",
   "metadata": {},
   "outputs": [],
   "source": [
    "adata_scvi"
   ]
  },
  {
   "cell_type": "code",
   "execution_count": null,
   "id": "7e747d05",
   "metadata": {},
   "outputs": [],
   "source": [
    "# Define the expression matrix to use and what the batch key is.\n",
    "batch_key='Patient'"
   ]
  },
  {
   "cell_type": "code",
   "execution_count": null,
   "id": "2e24441b",
   "metadata": {},
   "outputs": [],
   "source": [
    "# Data preparation\n",
    "# this creates fields marked with scvi\n",
    "scvi.model.SCVI.setup_anndata(adata_scvi, layer=\"counts\", batch_key=batch_key)\n",
    "adata_scvi"
   ]
  },
  {
   "cell_type": "code",
   "execution_count": null,
   "id": "e3553af4",
   "metadata": {},
   "outputs": [],
   "source": [
    "# Building the model\n",
    "# Construct the scVI model object\n",
    "# The scvi-tools package contains various other models - here we will use the scANVI model\n",
    "model_scvi = scvi.model.SCVI(adata_scvi)\n",
    "model_scvi"
   ]
  },
  {
   "cell_type": "code",
   "execution_count": null,
   "id": "06d112c5",
   "metadata": {},
   "outputs": [],
   "source": [
    "# We can also print a more detailed description of the model that shows us where things are stored in the associated AnnData object.\n",
    "\n",
    "model_scvi.view_anndata_setup()"
   ]
  },
  {
   "cell_type": "code",
   "execution_count": null,
   "id": "6ab1cfef",
   "metadata": {},
   "outputs": [],
   "source": [
    "# Training the model\n",
    "# The model will be trained for a given number of epochs, a training iteration where every cell is passed through the network. \n",
    "# By default scVI uses the following heuristic to set the number of epochs. \n",
    "# For datasets with fewer than 20,000 cells, 400 epochs will be used and as the number of cells grows above 20,000 the number of epochs is continuously reduced. \n",
    "# The reasoning behind this is that as the network sees more cells during each epoch it can learn the same amount of information as it would from more epochs with fewer cells.\n",
    "max_epochs_scvi = np.min([round((20000 / adata_scvi.n_obs) * 400), 400])\n",
    "max_epochs_scvi"
   ]
  },
  {
   "cell_type": "code",
   "execution_count": null,
   "id": "c698f258",
   "metadata": {},
   "outputs": [],
   "source": [
    "# We now train the model for the selected number of epochs (this will take ~20-40 minutes depending on the computer you are using).\n",
    "# Additionally to setting a target number of epochs, it is possible to also set early_stopping=True in the training function. This will let scVI decide to stop training early depending on the convergence of the model. \n",
    "# The exact conditions for stopping can be controlled by other parameters.\n",
    "model_scvi.train(max_epochs=5)"
   ]
  },
  {
   "cell_type": "code",
   "execution_count": null,
   "id": "04c9b36e",
   "metadata": {},
   "outputs": [],
   "source": [
    "# Extract the embedding\n",
    "\n",
    "# The main result we want to extract from the trained model is the latent representation for each cell. \n",
    "# This is a multi-dimensional embedding where the batch effects have been removed that can be used in a similar way to how we use PCA dimensions when analysing a single dataset. \n",
    "# We store this in obsm with the key X_scvi.\n",
    "\n",
    "adata_scvi.obsm[\"X_scVI\"] = model_scvi.get_latent_representation()"
   ]
  },
  {
   "cell_type": "code",
   "execution_count": null,
   "id": "561e3fcb",
   "metadata": {},
   "outputs": [],
   "source": [
    "# Calculate a batch-corrected UMAP\n",
    "\n",
    "#We calculate a new UMAP embedding but instead of finding nearest neighbors in PCA space, \n",
    "# we start with the corrected representation from scVI.\n",
    "\n",
    "sc.pp.neighbors(adata_scvi, use_rep=\"X_scVI\")\n",
    "sc.tl.umap(adata_scvi)\n",
    "adata_scvi\n"
   ]
  },
  {
   "cell_type": "code",
   "execution_count": null,
   "id": "27a79f23",
   "metadata": {},
   "outputs": [],
   "source": [
    "sc.pl.umap(adata_scvi, size =1, color=batch_key, save = \"scVI_integration_complete_dataset.pdf\")"
   ]
  },
  {
   "cell_type": "code",
   "execution_count": null,
   "id": "25fb2225",
   "metadata": {},
   "outputs": [],
   "source": [
    "sc.tl.embedding_density(adata_scvi, groupby='Patient')"
   ]
  },
  {
   "cell_type": "code",
   "execution_count": null,
   "id": "4f4131d5",
   "metadata": {},
   "outputs": [],
   "source": [
    "sc.pl.embedding_density(adata_scvi, groupby='Patient', save='_scVI_density.pdf')"
   ]
  },
  {
   "cell_type": "markdown",
   "id": "2a75068f",
   "metadata": {},
   "source": [
    "VAE integration using cell labels"
   ]
  },
  {
   "cell_type": "markdown",
   "id": "3d291f13",
   "metadata": {},
   "source": [
    "When performing integration with scVI we pretended that we didn’t already have any cell labels (although we showed them in plots). While this scenario is common there are some cases where we do know something about cell identity in advance. Most often this is when we want to combine one or more publicly available datasets with data from a new study. When we have labels for at least some of the cells we can use scANVI (single-cell ANnotation using Variational Inference) [Xu et al., 2021]. This is an extension of the scVI model that can incorporate cell identity label information as well as batch information. Because it has this extra information it can try to keep the differences between cell labels while removing batch effects. Benchmarking suggests that scANVI tends to better preserve biological signals compared to scVI but sometimes it is not as effective at removing batch effects [Luecken et al., 2021]. While we have labels for all cells here it is also possible to use scANVI in a semi-supervised manner where labels are only provided for some cells.\n",
    "\n",
    "Label harmonization\n",
    "If you are using scANVI to integrate multiple datasets for which you already have labels it is important to first perform label harmonization. This refers to a process of checking that labels are consistent across the datasets that are being integrated. For example, a cell may be annotated as a “T cell” in one dataset, but a cell of the same type could have been given the label “CD8+ T cell” in another dataset. How best to harmonize labels is an open question but often requires input from subject-matter experts."
   ]
  },
  {
   "cell_type": "code",
   "execution_count": null,
   "id": "879dd5f7",
   "metadata": {},
   "outputs": [],
   "source": [
    "# VAE integration using cell labels\n",
    "# I will test this approach using the leiden0.3 as the cell label key\n",
    "label_key = \"population\" #labelled leiden0.3 clusters\n",
    "model_scanvi = scvi.model.SCANVI.from_scvi_model(model_scvi, labels_key=label_key, unlabeled_category=\"unlabelled\")\n",
    "print(model_scanvi)\n",
    "model_scanvi.view_anndata_setup()"
   ]
  },
  {
   "cell_type": "code",
   "execution_count": null,
   "id": "8744a102",
   "metadata": {},
   "outputs": [],
   "source": [
    "max_epochs_scanvi = int(np.min([10, np.max([2, round(max_epochs_scvi / 3.0)])]))\n",
    "model_scanvi.train(max_epochs=max_epochs_scanvi)"
   ]
  },
  {
   "cell_type": "code",
   "execution_count": null,
   "id": "fd991b2b",
   "metadata": {},
   "outputs": [],
   "source": [
    "# extract the new latent representation from the model and create a new UMAP embedding.\n",
    "adata_scvi.obsm[\"X_scANVI\"] = model_scanvi.get_latent_representation()\n",
    "sc.pp.neighbors(adata_scvi, use_rep=\"X_scANVI\")\n",
    "sc.tl.umap(adata_scvi)"
   ]
  },
  {
   "cell_type": "code",
   "execution_count": null,
   "id": "156aa7e3",
   "metadata": {},
   "outputs": [],
   "source": [
    "sc.pl.umap(adata_scvi, color=[label_key, batch_key], wspace=1, save = \"sANcVI_integration_complete_dataset.pdf\")"
   ]
  },
  {
   "cell_type": "code",
   "execution_count": null,
   "id": "b9249b2c",
   "metadata": {},
   "outputs": [],
   "source": [
    "sc.pl.embedding_density(adata_scvi, groupby='Patient', save='_scANVI_density.pdf')"
   ]
  },
  {
   "cell_type": "code",
   "execution_count": null,
   "id": "c9912dc7",
   "metadata": {},
   "outputs": [],
   "source": [
    "adata_subset"
   ]
  },
  {
   "cell_type": "code",
   "execution_count": null,
   "id": "96f5e39a",
   "metadata": {},
   "outputs": [],
   "source": [
    "adata_scvi"
   ]
  },
  {
   "cell_type": "markdown",
   "id": "59f7afd0",
   "metadata": {},
   "source": [
    "# QC integration methods"
   ]
  },
  {
   "cell_type": "code",
   "execution_count": 3,
   "id": "1357e2d8",
   "metadata": {
    "scrolled": true
   },
   "outputs": [
    {
     "name": "stderr",
     "output_type": "stream",
     "text": [
      "/Users/joaoluizsfilho/opt/anaconda3/envs/scvi-env/lib/python3.9/site-packages/faiss/loader.py:28: DeprecationWarning: distutils Version classes are deprecated. Use packaging.version instead.\n",
      "  if LooseVersion(numpy.__version__) >= \"1.19\":\n",
      "/Users/joaoluizsfilho/opt/anaconda3/envs/scvi-env/lib/python3.9/site-packages/setuptools/_distutils/version.py:345: DeprecationWarning: distutils Version classes are deprecated. Use packaging.version instead.\n",
      "  other = LooseVersion(other)\n"
     ]
    }
   ],
   "source": [
    "import faiss\n",
    "from scib_metrics.nearest_neighbors import NeighborsOutput"
   ]
  },
  {
   "cell_type": "code",
   "execution_count": 4,
   "id": "e4dabbfe",
   "metadata": {},
   "outputs": [],
   "source": [
    "from scib_metrics.benchmark import Benchmarker"
   ]
  },
  {
   "cell_type": "code",
   "execution_count": 5,
   "id": "eb03b93a",
   "metadata": {},
   "outputs": [],
   "source": [
    "import time"
   ]
  },
  {
   "cell_type": "code",
   "execution_count": null,
   "id": "506b0e69",
   "metadata": {},
   "outputs": [],
   "source": [
    "adata_scvi"
   ]
  },
  {
   "cell_type": "code",
   "execution_count": null,
   "id": "871f68bd",
   "metadata": {},
   "outputs": [],
   "source": [
    "start = time.time()\n",
    "bm = Benchmarker(\n",
    "    adata_scvi,\n",
    "    batch_key=batch_key,\n",
    "    label_key=label_key,\n",
    "    embedding_obsm_keys=[\"X_pca\", \"X_scVI\", \"X_scANVI\", \"X_pca_harmony\"],\n",
    "    pre_integrated_embedding_obsm_key=\"X_pca\",\n",
    "    bio_conservation_metrics=None,\n",
    "    n_jobs=-1,\n",
    ")\n",
    "bm.benchmark()\n",
    "end = time.time()\n",
    "print(f\"Time: {int((end - start) / 60)} min {int((end - start) % 60)} sec\")"
   ]
  },
  {
   "cell_type": "code",
   "execution_count": 8,
   "id": "82b64807",
   "metadata": {},
   "outputs": [],
   "source": [
    "label_key = \"population\"\n",
    "batch_key='Patient'"
   ]
  },
  {
   "cell_type": "code",
   "execution_count": null,
   "id": "be8b3804",
   "metadata": {},
   "outputs": [],
   "source": [
    "metrics_scvi = scib.metrics.metrics_fast(adata_scvi, batch_key, label_key, embed=\"X_scVI\")\n",
    "metrics_scanvi = scib.metrics.metrics_fast(adata_scvi, batch_key, label_key, embed=\"X_scANVI\")\n",
    "metrics_bbknn = scib.metrics.metrics_fast(adata_scvi, batch_key, label_key)# BBKNN is stored in the neighbours key, because I ran in adata_subset it might no be different between these adatas\n",
    "metrics_harmony = scib.metrics.metrics_fast(adata_scvi, batch_key, label_key, embed=\"X_pca_harmony\")\n"
   ]
  },
  {
   "cell_type": "markdown",
   "id": "246053e1",
   "metadata": {},
   "source": [
    "# Supervised cell type identification using Astir\n",
    "\n",
    "This uses Astir (https://github.com/camlab-bioml/astir) to do 'semi-supervised' cell identification using a neural network. You specify the populations and markers in hte 'markers.yml' file - see the Astir documentation for full details"
   ]
  },
  {
   "cell_type": "markdown",
   "id": "51da2903",
   "metadata": {},
   "source": [
    "Import markers file and data file"
   ]
  },
  {
   "cell_type": "code",
   "execution_count": null,
   "id": "7abe715a",
   "metadata": {},
   "outputs": [],
   "source": [
    "# Read in the YAML file with a list of the expected marker pairs\n",
    "with open(r'markers.yml') as file:\n",
    "  cell_types = yaml.load(file, Loader=yaml.FullLoader)\n",
    "\n",
    "#View the contents of the YML file\n",
    "!head markers.yml\n",
    "print(cell_types['cell_types'])"
   ]
  },
  {
   "cell_type": "code",
   "execution_count": null,
   "id": "7a944f07",
   "metadata": {},
   "outputs": [],
   "source": [
    "adata_subset3.write(filename='adata_subset_DC_astir')\n",
    "\n",
    "import os\n",
    "import warnings\n",
    "from typing import Any\n",
    "\n",
    "import anndata\n",
    "import loompy\n",
    "import matplotlib.cbook\n",
    "import numpy as np\n",
    "import pandas as pd\n",
    "import torch\n",
    "import yaml\n",
    "from sklearn.preprocessing import OneHotEncoder"
   ]
  },
  {
   "cell_type": "code",
   "execution_count": null,
   "id": "84c6e435",
   "metadata": {},
   "outputs": [],
   "source": [
    "from astir.data import from_anndata_yaml\n",
    "#the name of the anndata file below has to be as saved above!!\n",
    "\n",
    "ast = from_anndata_yaml(\"adata_subset_DC_astir\", \"markers.yml\", batch_name=None)\n",
    "ast"
   ]
  },
  {
   "cell_type": "markdown",
   "id": "e7b79fa9",
   "metadata": {},
   "source": [
    "Set training parameters\n",
    "\n",
    "I've left these all as the default for now"
   ]
  },
  {
   "cell_type": "code",
   "execution_count": null,
   "id": "31fe6e30",
   "metadata": {},
   "outputs": [],
   "source": [
    "# Create batch size proportional to the number of cells\n",
    "N = ast.get_type_dataset().get_exprs_df().shape[0]\n",
    "batch_size = int(N/100)\n",
    "\n",
    "# Number of training epochs\n",
    "max_epochs = 1000\n",
    "\n",
    "# Set learning rate\n",
    "learning_rate = 2e-3\n",
    "\n",
    "# Set initial epochs\n",
    "initial_epochs = 3"
   ]
  },
  {
   "cell_type": "code",
   "execution_count": null,
   "id": "f61c6250",
   "metadata": {
    "scrolled": true
   },
   "outputs": [],
   "source": [
    "#Run the cell type identification\n",
    "ast.fit_type(max_epochs = max_epochs,\n",
    "             batch_size = batch_size,\n",
    "             learning_rate = learning_rate,\n",
    "             n_init_epochs = initial_epochs,\n",
    "             delta_loss=0.001)"
   ]
  },
  {
   "cell_type": "markdown",
   "id": "2654458c",
   "metadata": {},
   "source": [
    "Number of cells of each type found"
   ]
  },
  {
   "cell_type": "code",
   "execution_count": null,
   "id": "2016ddfa",
   "metadata": {
    "scrolled": true
   },
   "outputs": [],
   "source": [
    "ast.get_celltypes().value_counts()"
   ]
  },
  {
   "cell_type": "code",
   "execution_count": null,
   "id": "9eacab34",
   "metadata": {},
   "outputs": [],
   "source": [
    "df = ast.diagnostics_celltype().head(n=20)\n",
    "df"
   ]
  },
  {
   "cell_type": "code",
   "execution_count": null,
   "id": "f7228c74",
   "metadata": {},
   "outputs": [],
   "source": [
    "#plot the losses to assess convergence\n",
    "plt.figure(figsize=(5,4))\n",
    "plt.plot(np.arange(len(ast.get_type_losses())), ast.get_type_losses())\n",
    "plt.ylabel(\"Loss\")\n",
    "plt.xlabel(\"Epoch\")"
   ]
  },
  {
   "cell_type": "code",
   "execution_count": null,
   "id": "75b44e14",
   "metadata": {},
   "outputs": [],
   "source": [
    "#get cell type assignment probabilities\n",
    "assignments = ast.get_celltype_probabilities()\n",
    "assignments"
   ]
  },
  {
   "cell_type": "code",
   "execution_count": null,
   "id": "e6c28b28",
   "metadata": {},
   "outputs": [],
   "source": [
    "assignments.to_csv(\"../assignments_probabilities.csv\")"
   ]
  },
  {
   "cell_type": "code",
   "execution_count": null,
   "id": "8be8a2d2",
   "metadata": {},
   "outputs": [],
   "source": [
    "sb.heatmap(assignments, annot=False, xticklabels=1, yticklabels=False)"
   ]
  },
  {
   "cell_type": "code",
   "execution_count": null,
   "id": "44dfe070",
   "metadata": {},
   "outputs": [],
   "source": [
    "ast.get_celltypes()"
   ]
  },
  {
   "cell_type": "code",
   "execution_count": null,
   "id": "87b0493f",
   "metadata": {},
   "outputs": [],
   "source": [
    "ast.type_to_csv(\"../cell-types.csv\")"
   ]
  },
  {
   "cell_type": "markdown",
   "id": "d615efcc",
   "metadata": {},
   "source": [
    "Add hierarchy and cell type data to original Adata"
   ]
  },
  {
   "cell_type": "code",
   "execution_count": null,
   "id": "13a52d20",
   "metadata": {},
   "outputs": [],
   "source": [
    "# Check that the hierarchy dictionary have been loaded correctly\n",
    "ast.get_hierarchy_dict()"
   ]
  },
  {
   "cell_type": "code",
   "execution_count": null,
   "id": "5b582fc4",
   "metadata": {},
   "outputs": [],
   "source": [
    "#Retrieve the table of probabilites\n",
    "hierarchy_table =  ast.assign_celltype_hierarchy(depth = 1)\n",
    "\n",
    "cell_types = hierarchy_table.columns.tolist()\n",
    "\n",
    "#This is  the threshold as above - probably best to keep the same!\n",
    "threshold_for_classification = 0.5\n",
    "\n",
    "#Start a new list that will store the hierarchy data\n",
    "hierarchy = []\n",
    "\n",
    "#This will work down each row and figure out which hierarchy type have the highest probability\n",
    "for index, row in hierarchy_table.iterrows():\n",
    "    row_values = row.values\n",
    "    max_prob = np.max(row_values)\n",
    "    \n",
    "    if max_prob < threshold_for_classification:\n",
    "        #If the cell doesn't fit into any category, return Unknown\n",
    "        hierarchy.append('Other')\n",
    "    else:\n",
    "        #Add to the list the \n",
    "        hierarchy.append(cell_types[np.argmax(row_values)])\n",
    "\n",
    "adata_subset.obs[\"cell_type_astir\"] = ast.get_celltypes(threshold=threshold_for_classification)['cell_type']\n",
    "adata_subset.obs[\"hierarchy_astir\"] = hierarchy"
   ]
  },
  {
   "cell_type": "code",
   "execution_count": null,
   "id": "e458f2af",
   "metadata": {},
   "outputs": [],
   "source": [
    "adata_subset"
   ]
  },
  {
   "cell_type": "code",
   "execution_count": null,
   "id": "3fc67cdc",
   "metadata": {},
   "outputs": [],
   "source": [
    "#This code further filters the data by removing cells from C10, C31 ROIs and C21_ROI3\n",
    "#The .copy() makes a completely seperate copy\n",
    "adata_subset2 = adata_subset.copy()\n",
    "adata_subset2 = adata_subset2[~adata_subset2.obs['cell_type_astir'].isin(['Other','Unknown']),:].copy()"
   ]
  },
  {
   "cell_type": "code",
   "execution_count": null,
   "id": "54a3a417",
   "metadata": {},
   "outputs": [],
   "source": [
    "adata_subset2"
   ]
  },
  {
   "cell_type": "code",
   "execution_count": null,
   "id": "010b6cf5",
   "metadata": {},
   "outputs": [],
   "source": [
    "#Plot a heatmap grouped by hierarchy\n",
    "sc.pl.heatmap(adata_subset2, adata_subset3.var_names, groupby='cell_type_astir', cmap='viridis', vmax=0.75, swap_axes=False, save='_cell_type.pdf')"
   ]
  },
  {
   "cell_type": "code",
   "execution_count": null,
   "id": "62546736",
   "metadata": {},
   "outputs": [],
   "source": [
    "#Plot a heatmap grouped by cell types\n",
    "sc.pl.heatmap(adata_subset2, adata_subset3.var_names, groupby='cell_type_astir', vmax=0.75, swap_axes=True) #save='_ASTIR_celltype.pdf')"
   ]
  },
  {
   "cell_type": "code",
   "execution_count": null,
   "id": "cbfb0d15",
   "metadata": {},
   "outputs": [],
   "source": [
    "#Plot a heatmap grouped by ASTIR\n",
    "sc.pl.matrixplot(adata_subset2, adata_subset3.var_names, groupby='cell_type_astir', swap_axes=False, cmap='viridis', save='_ASTIR_cell_type.png')"
   ]
  },
  {
   "cell_type": "code",
   "execution_count": null,
   "id": "c0816e02",
   "metadata": {},
   "outputs": [],
   "source": [
    "sb.set_style(\"darkgrid\", {'axes.grid' : False})\n",
    "\n",
    "graph = sb.lmplot(data = adata_subset2.obs, x = 'X_loc',y='Y_loc',hue ='cell_type_astir',palette = 'bright',height = 8,col = 'ROI',col_wrap = 6,fit_reg = False, aspect=1)\n",
    "graph.savefig(\"MappedPlots_cell_type_astir.pdf\")"
   ]
  },
  {
   "cell_type": "code",
   "execution_count": null,
   "id": "b746a14b",
   "metadata": {},
   "outputs": [],
   "source": [
    "sc.pp.neighbors(adata_subset2, use_rep='X_pca_harmony')\n",
    "sc.tl.umap(adata_subset2)"
   ]
  },
  {
   "cell_type": "code",
   "execution_count": null,
   "id": "20952bb4",
   "metadata": {},
   "outputs": [],
   "source": [
    "#Plot PhenoGraph on UMAP\n",
    "sc.pl.umap(adata_subset2, color=['cell_type_astir'], size=2, save='_redsea_cell_type_astir.pdf')"
   ]
  },
  {
   "cell_type": "code",
   "execution_count": null,
   "id": "a9ceb88c",
   "metadata": {},
   "outputs": [],
   "source": [
    "#Plot PhenoGraph on UMAP\n",
    "sb.set_style(\"white\", {'axes.grid' : False})\n",
    "sc.pl.umap(adata_subse2, color = \"hierarchy_astir\", s = 2, legend_loc='on data', title='', legend_fontsize = 7, size=2, save='_hierarchy_astir.pdf')"
   ]
  },
  {
   "cell_type": "code",
   "execution_count": null,
   "id": "0937ea73",
   "metadata": {},
   "outputs": [],
   "source": [
    "adata_subset"
   ]
  },
  {
   "cell_type": "code",
   "execution_count": null,
   "id": "7edd0244",
   "metadata": {},
   "outputs": [],
   "source": [
    "adata_subset2"
   ]
  },
  {
   "cell_type": "markdown",
   "id": "ab2cab24",
   "metadata": {},
   "source": [
    "# Abundance graphs"
   ]
  },
  {
   "cell_type": "code",
   "execution_count": null,
   "id": "98de264a",
   "metadata": {},
   "outputs": [],
   "source": [
    "#stack bar code and extracting number of cells, distribution of each cluster per case or the cluster composition per case\n",
    "#for number of cells - don't use normalize\n",
    "#for distribution of each case per cluster - use normalize = \"index\"\n",
    "#for cluster composition per case - use normalize = \"columns\"\n",
    "tmp = pd.crosstab(adata_subset2.obs['cell_type'], adata_subset2.obs['Group'], margins=False, normalize = \"columns\")"
   ]
  },
  {
   "cell_type": "code",
   "execution_count": null,
   "id": "a5ab9f4a",
   "metadata": {},
   "outputs": [],
   "source": [
    "tmp"
   ]
  },
  {
   "cell_type": "code",
   "execution_count": null,
   "id": "3089111d",
   "metadata": {},
   "outputs": [],
   "source": [
    "compression_opts = dict(method='zip',\n",
    "                         archive_name='Celltype_Group.csv') \n",
    "tmp.to_csv('Celltype_Group.zip', index=True, compression=compression_opts)"
   ]
  },
  {
   "cell_type": "code",
   "execution_count": null,
   "id": "47322a55",
   "metadata": {},
   "outputs": [],
   "source": [
    "tmp2 = pd.DataFrame.transpose(tmp)"
   ]
  },
  {
   "cell_type": "code",
   "execution_count": null,
   "id": "adca0e44",
   "metadata": {},
   "outputs": [],
   "source": [
    "tmp2"
   ]
  },
  {
   "cell_type": "code",
   "execution_count": null,
   "id": "d489aceb",
   "metadata": {},
   "outputs": [],
   "source": [
    "#color for stack bars for the disease groups matching the other bar graphs\n",
    "#F08080 - light coral\n",
    "#87CEFA - lightskyblue\n",
    "#D3D3D3 - lightgrey\n",
    "\n",
    "pretty_colors = ['#F08080','#87CEFA','#D3D3D3']\n",
    "color_pal = sb.color_palette('Paired')\n",
    "\n",
    "#colour_palette['colour']\n",
    "tmp2.plot.bar(stacked=True, color=color_pal, figsize=(4, 4)).legend(bbox_to_anchor=(1, 1))\n",
    "plt.savefig(\"cell_frequencies_group_after_astir.pdf\", format=\"pdf\", bbox_inches=\"tight\")"
   ]
  },
  {
   "cell_type": "markdown",
   "id": "77862e83",
   "metadata": {},
   "source": [
    "Example breakdown of populations per case\n",
    "Here, break down the myeloid and tumour populations per case"
   ]
  },
  {
   "cell_type": "code",
   "execution_count": null,
   "id": "60894330",
   "metadata": {},
   "outputs": [],
   "source": [
    "#Example breakdown of populations per case\n",
    "#Here, break down the myeloid and lymphoid populations per case\n",
    "\n",
    "adata_m = adata_subset2[adata_subset2.obs['hierarchy'].isin(['Myeloid'])].copy()\n",
    "adata_l = adata_subset2[adata_subset2.obs['hierarchy'].isin(['Lymphoid'])].copy()\n",
    "adata_v = adata_subset2[adata_subset2.obs['hierarchy'].isin(['Vascular'])].copy()\n",
    "\n",
    "fig, axs = plt.subplots(1,3,figsize=(11, 6),constrained_layout=True)\n",
    "\n",
    "tmp = pd.crosstab(adata_m.obs['Group'],adata_subset2.obs['cell_type'], normalize='index')\n",
    "tmp.plot.bar(color=color_pal,ax=axs[0],stacked=True).legend(bbox_to_anchor=(0.75, -0.5))#.legend(bbox_to_anchor=(1.1, 1))\n",
    "\n",
    "tmp = pd.crosstab(adata_l.obs['Group'],adata_subset2.obs['cell_type'], normalize='index')\n",
    "tmp.plot.bar(color=color_pal,ax=axs[1],stacked=True).legend(bbox_to_anchor=(0.75, -0.5))#.legend(bbox_to_anchor=(1.1, 1))\n",
    "\n",
    "tmp = pd.crosstab(adata_v.obs['Group'],adata_subset2.obs['cell_type'], normalize='index')\n",
    "tmp.plot.bar(color=color_pal,ax=axs[2],stacked=True).legend(bbox_to_anchor=(0.75, -0.5))#.legend(bbox_to_anchor=(1.1, 1))\n",
    "\n",
    "fig.savefig('population_breakdowns_Group.png')"
   ]
  },
  {
   "cell_type": "markdown",
   "id": "917ceef0",
   "metadata": {},
   "source": [
    "Abundances graphs with stats\n",
    "Example of case averaging abundance stats"
   ]
  },
  {
   "cell_type": "code",
   "execution_count": null,
   "id": "c73e043c",
   "metadata": {},
   "outputs": [],
   "source": [
    "# Alter this list with adata.obs variables that you want to plot against the resulting leiden population\n",
    "image_var = 'ROI'\n",
    "\n",
    "for i in ['Patient']:\n",
    "\n",
    "    mikeimc_v2.grouped_graph(adata_subset2,\n",
    "                             ROI_id=image_var,\n",
    "                             group_by_obs=i,\n",
    "                             x_axis='cell_type',\n",
    "                             fig_size=(20,8),\n",
    "                             log_scale=False,\n",
    "                            display_tables=False) #If you change display_tables to True, will also do stats on the groups\n",
    "    plt.show()"
   ]
  },
  {
   "cell_type": "code",
   "execution_count": null,
   "id": "f1905aaa",
   "metadata": {},
   "outputs": [],
   "source": [
    "mikeimc_v2.pop_stats(adata_subset2,\n",
    "          groups='Group', #The adata.obs we want to use to compare between\n",
    "          Case_id='Patient', #The adata.obs that defines case\n",
    "          ROI_id='ROI',\n",
    "          x_axis='cell_type',\n",
    "          display_tables=True,\n",
    "          fig_size=(8,3),\n",
    "          save='pop_stats_Group.png',\n",
    "           log_scale=False\n",
    "         )"
   ]
  },
  {
   "cell_type": "markdown",
   "id": "7bdea5b1",
   "metadata": {},
   "source": [
    "# Categorise samples using UMAP for cell abundance"
   ]
  },
  {
   "cell_type": "markdown",
   "id": "e75fd5ca",
   "metadata": {},
   "source": [
    "This will use the abundance of the different populations to create a UMAP, then colour it by an adata.obs"
   ]
  },
  {
   "cell_type": "code",
   "execution_count": null,
   "id": "31bf1601",
   "metadata": {},
   "outputs": [],
   "source": [
    "mikeimc_v2.cellabundance_UMAP(adata_subset2,\n",
    "                              ROI_id='Patient',\n",
    "                              population='cell_type',\n",
    "                              colour_by='Group',\n",
    "                              annotate=True,\n",
    "                              save='abundance_umap.svg')"
   ]
  },
  {
   "cell_type": "markdown",
   "id": "021ecd17",
   "metadata": {},
   "source": [
    "# Create new adatas for all cell types for unsupervised analyses"
   ]
  },
  {
   "cell_type": "markdown",
   "id": "e369daf7",
   "metadata": {},
   "source": [
    "# Myeloid cells"
   ]
  },
  {
   "cell_type": "code",
   "execution_count": null,
   "id": "3ecd48a2",
   "metadata": {
    "scrolled": true
   },
   "outputs": [],
   "source": [
    "adata_myeloid = adata_subset2[adata_subset2.obs['hierarchy'].isin(['Myeloid'])].copy()\n",
    "sc.pl.heatmap(adata_myeloid, adata_myeloid.var_names, groupby='cell_type', vmax=0.75, cmap = 'viridis', swap_axes=True, save='_ASTIR_myeloid.png')"
   ]
  },
  {
   "cell_type": "code",
   "execution_count": null,
   "id": "1d959c40",
   "metadata": {},
   "outputs": [],
   "source": [
    "#Plot clustered heatmap\n",
    "sc.tl.dendrogram(adata_myeloid, groupby = 'cell_type')\n",
    "sc.pl.heatmap(adata_myeloid, adata_myeloid.var_names, groupby='cell_type', vmax=0.75, swap_axes=True,dendrogram=True, save='_ASTIR_myeloid_clustered.png')"
   ]
  },
  {
   "cell_type": "code",
   "execution_count": null,
   "id": "663b62e4",
   "metadata": {},
   "outputs": [],
   "source": [
    "#Plot scaled heatmap\n",
    "adata_myeloid_norm = adata_myeloid.copy()\n",
    "sc.pp.scale(adata_myeloid_norm, max_value=2,  zero_center=True)\n",
    "sc.pl.heatmap(adata_myeloid_norm, adata_myeloid_norm.var_names, groupby='cell_type', cmap='viridis', swap_axes=True, save='_scaled_ASTIR_myeloid.png')"
   ]
  },
  {
   "cell_type": "markdown",
   "id": "6ba5cc6a",
   "metadata": {},
   "source": [
    "# Lymphoid cells"
   ]
  },
  {
   "cell_type": "code",
   "execution_count": null,
   "id": "ed4ed319",
   "metadata": {},
   "outputs": [],
   "source": [
    "#Plot heatmap\n",
    "adata_lymphoid = adata_subset2[adata_subset2.obs['hierarchy'].isin(['Lymphoid'])].copy()\n",
    "sc.pl.heatmap(adata_lymphoid, adata_lymphoid.var_names, groupby='cell_type', vmax=0.75, cmap='viridis',swap_axes=True, save='_ASTIR_lymphoid.png')"
   ]
  },
  {
   "cell_type": "code",
   "execution_count": null,
   "id": "339e39c6",
   "metadata": {},
   "outputs": [],
   "source": [
    "#Plot scaled heatmap\n",
    "adata_lymphoid_norm = adata_lymphoid.copy()\n",
    "sc.pp.scale(adata_lymphoid_norm, max_value=1.5,  zero_center=True)\n",
    "sc.pl.heatmap(adata_lymphoid_norm, adata_lymphoid_norm.var_names, groupby='cell_type', swap_axes=True, save='_scaled_ASTIR_lymphoid.pdf')"
   ]
  },
  {
   "cell_type": "markdown",
   "id": "044959b0",
   "metadata": {},
   "source": [
    "# Vascular and Stromal cells"
   ]
  },
  {
   "cell_type": "markdown",
   "id": "d5692f97",
   "metadata": {},
   "source": []
  },
  {
   "cell_type": "code",
   "execution_count": null,
   "id": "6f385bcb",
   "metadata": {
    "scrolled": true
   },
   "outputs": [],
   "source": [
    "adata_vascular = adata_subset2[adata_subset2.obs['hierarchy'].isin(['Vascular'])].copy()\n",
    "sc.pl.heatmap(adata_vascular, adata_vascular.var_names, groupby='cell_type', vmax=0.75, cmap='viridis', swap_axes=True, save='_ASTIR_vascular.png')\n",
    "\n",
    "adata_endothelium = adata_subset2[adata_subset2.obs['cell_type'].isin(['Endothelial cells'])].copy()\n",
    "sc.pl.heatmap(adata_endothelium, adata_endothelium.var_names, groupby='cell_type', cmap='viridis', swap_axes=True, vmax=0.75, save='_ASTIR_endothelium.png')\n",
    "\n",
    "adata_RBC = adata_subset2[adata_subset2.obs['cell_type'].isin(['RBCs'])].copy()\n",
    "sc.pl.heatmap(adata_RBC, adata_RBC.var_names, groupby='cell_type', swap_axes=True, vmax=0.75, cmap='viridis', save='_ASTIR_RBC.png')\n",
    "\n",
    "#Plot scaled heatmap\n",
    "adata_vascular_norm = adata_vascular.copy()\n",
    "sc.pp.scale(adata_vascular_norm, max_value=0.5,  zero_center=True)\n",
    "sc.pl.heatmap(adata_vascular_norm, adata_vascular_norm.var_names, groupby='cell_type', cmap='viridis', swap_axes=True, save='_scaled_ASTIR_vascular.png')"
   ]
  },
  {
   "cell_type": "code",
   "execution_count": null,
   "id": "ad7c9cf3",
   "metadata": {},
   "outputs": [],
   "source": [
    "adata_stromal = adata_subset2[adata_subset2.obs['hierarchy'].isin(['Stromal'])].copy()\n",
    "sc.pl.heatmap(adata_stromal, adata_stromal.var_names, groupby='cell_type', cmap='viridis', swap_axes=True, vmax=0.75, save='_ASTIR_stromal.png')"
   ]
  },
  {
   "cell_type": "markdown",
   "id": "1971e1cf",
   "metadata": {},
   "source": [
    "# Unsupervised analyses on cellular types - ASTIR output"
   ]
  },
  {
   "cell_type": "markdown",
   "id": "932c3560",
   "metadata": {},
   "source": [
    "# ASTIR - clustering analysis including functional markers"
   ]
  },
  {
   "cell_type": "code",
   "execution_count": null,
   "id": "7459f77c",
   "metadata": {},
   "outputs": [],
   "source": [
    "#including functional markers\n",
    "myeloid_markers = ['CD45', 'CD11b', 'CD11c', 'CD14', 'CD16', 'CD68', 'CD163', 'CD206','Iba1', 'CD33', 'VISTA', 'CD74', 'HLADR',\n",
    "                   'CX3CR1', 'Vimentin', 'VEGF', 'PDL1','Ki67', 'MCT4']\n",
    "adata_myeloid_2 = adata_myeloid[:,myeloid_markers].copy()\n",
    "\n",
    "lymphoid_markers = ['CD3','CD4','CD8', 'CD19', 'CD20', 'CD138', 'CD56', 'CD45RA', 'CD45RO', 'CD27', 'IgD', 'HLADR',\n",
    "                    'CD38', 'CD74','PD1','PDL1','Foxp3', 'VISTA', 'LAG3','Foxp3', 'TIM-3', 'CX3CR1', 'Vimentin', 'Ki67', 'MCT4']\n",
    "adata_lymphoid_2 = adata_lymphoid[:,lymphoid_markers].copy()\n",
    "\n",
    "vascular_markers = ['CD31','CD105', 'SMA', 'CD235ab', 'VEGF', 'CD74','HLADR','PDL1', 'Ki67','Fibronectin','MCT4']\n",
    "adata_vascular_2 = adata_vascular[:,vascular_markers].copy()"
   ]
  },
  {
   "cell_type": "code",
   "execution_count": null,
   "id": "2b85a1a3",
   "metadata": {},
   "outputs": [],
   "source": [
    "adata_vascular_2.var_names_make_unique"
   ]
  },
  {
   "cell_type": "markdown",
   "id": "2d162ac7",
   "metadata": {},
   "source": [
    "# First leiden clustering - identification of major cell types"
   ]
  },
  {
   "cell_type": "markdown",
   "id": "c8d19ac0",
   "metadata": {},
   "source": [
    "This is the same algorithm used by PhenoGraph, and is more or less the same"
   ]
  },
  {
   "cell_type": "markdown",
   "id": "aae1eff8",
   "metadata": {},
   "source": [
    "Initial Leiden clustering\n",
    "resolution - Change this to alter the size of the clusters - small resolution results in bigger clusters (therefore, less clusters overall, but each with more cells).\n",
    "Feel free to re-run this with several different resolutions, to see which looks best!"
   ]
  },
  {
   "cell_type": "code",
   "execution_count": null,
   "id": "9069f2a7",
   "metadata": {},
   "outputs": [],
   "source": [
    "# Change this to alter the size of the clusters - small resolution results in bigger clusters (therefore, less clusters overall, but each with more cells)\n",
    "resolution = 0.3\n",
    "leiden_obs_name = 'leiden_'+str(resolution)\n",
    "\n",
    "# This will perform the clustering, then add an 'obs' with name specified above, e.g leiden_0.3\n",
    "sc.tl.leiden(adata_subset, resolution=resolution, key_added = leiden_obs_name)"
   ]
  },
  {
   "cell_type": "code",
   "execution_count": null,
   "id": "781d40d9",
   "metadata": {},
   "outputs": [],
   "source": [
    "adata_subset"
   ]
  },
  {
   "cell_type": "code",
   "execution_count": null,
   "id": "b8ba28cc",
   "metadata": {},
   "outputs": [],
   "source": [
    "obs_to_show = adata_subset.obs.columns.tolist()[-1] #This is the last .obs to be added, alternatively put actual name of leiden group"
   ]
  },
  {
   "cell_type": "code",
   "execution_count": null,
   "id": "56dca541",
   "metadata": {},
   "outputs": [],
   "source": [
    "import pop_id\n",
    "pop_id.population_summary(adata_subset, categorical_obs='Group', groupby_obs=obs_to_show) "
   ]
  },
  {
   "cell_type": "markdown",
   "id": "6da7c4f6",
   "metadata": {},
   "source": [
    "# Labelling populations"
   ]
  },
  {
   "cell_type": "code",
   "execution_count": null,
   "id": "c7bf95f4",
   "metadata": {},
   "outputs": [],
   "source": [
    "pop_id.create_remapping(adata_subset, 'leiden_0.3')"
   ]
  },
  {
   "cell_type": "markdown",
   "id": "c4bc01f5",
   "metadata": {},
   "source": [
    "# Edit in Excel\n",
    "\n",
    "The remapping file is created in this directory, fill in the table in Excel for how each of the population should be remapped.\n",
    "\n",
    "By default three new populations are added (population, population_broad, hierarchy), but you can call the whatever you like and add more column/new groups if you wish"
   ]
  },
  {
   "cell_type": "markdown",
   "id": "601da6a3",
   "metadata": {},
   "source": [
    "Read in labelling file and remap"
   ]
  },
  {
   "cell_type": "code",
   "execution_count": null,
   "id": "fdcc3821",
   "metadata": {},
   "outputs": [],
   "source": [
    "#pop_id.read_remapping(adata_subset, 'leiden_0.3')"
   ]
  },
  {
   "cell_type": "code",
   "execution_count": null,
   "id": "12aa57dd",
   "metadata": {},
   "outputs": [],
   "source": [
    "leiden_obs_name = 'leiden_0.3' #This will depend on what subclustering you did\n",
    "\n",
    "populations={'0':'RBCs',\n",
    "'1':'Myeloid',\n",
    "'2':'B cell',\n",
    "'3':'Myeloid',\n",
    "'4':'T cell',\n",
    "'5':'Stroma',\n",
    "'6':'B cell',\n",
    "'7':'NK cell'\n",
    "}\n",
    "\n",
    "hierarchy={'0':'Erythroid',\n",
    "'1':'Myeloid',\n",
    "'2':'Lymphoid',\n",
    "'3':'Myeloid',\n",
    "'4':'Lymphoid',\n",
    "'5':'Stroma',\n",
    "'6':'Lymphoid',\n",
    "'7':'Lymphoid'} \n",
    "    \n",
    "adata_subset.obs['population']=adata_subset.obs[leiden_obs_name].map(populations).astype('category')\n",
    "#adata_subset.obs['population_broad']=adata_subset.obs[leiden_obs_name].map(populations_broad).astype('category')\n",
    "adata_subset.obs['hierarchy']=adata_subset.obs[leiden_obs_name].map(hierarchy).astype('category')"
   ]
  },
  {
   "cell_type": "code",
   "execution_count": null,
   "id": "34f267a0",
   "metadata": {
    "scrolled": true
   },
   "outputs": [],
   "source": [
    "adata_subset"
   ]
  },
  {
   "cell_type": "code",
   "execution_count": null,
   "id": "6b7be9a9",
   "metadata": {},
   "outputs": [],
   "source": [
    "pop_id.population_summary(adata_subset, categorical_obs='Group', groupby_obs=\"population\") \n",
    "#plt.savefig(\"data.pdf\", format=\"pdf\", bbox_inches=\"tight\")"
   ]
  },
  {
   "cell_type": "markdown",
   "id": "de6054f5",
   "metadata": {},
   "source": [
    "Plot initial clustering results"
   ]
  },
  {
   "cell_type": "code",
   "execution_count": null,
   "id": "dbb2cb3f",
   "metadata": {},
   "outputs": [],
   "source": [
    "#sc.set_figure_params(figsize=(5, 5))\n",
    "sc.pl.umap(adata_subset, color=\"population\", size=1, save = \"leiden0.3_UMAP_populations.pdf\")"
   ]
  },
  {
   "cell_type": "code",
   "execution_count": null,
   "id": "ee97cc88",
   "metadata": {},
   "outputs": [],
   "source": [
    "# Plot a heatmap\n",
    "sc.pl.matrixplot(adata_subset,\n",
    "                 adata_subset.var_names.tolist(), \n",
    "                 groupby=\"population\", \n",
    "                 var_group_rotation = 0,\n",
    "                 vmax=1,\n",
    "                 dendrogram=True, save = \"leiden0.3_heatmap_populations.pdf\")"
   ]
  },
  {
   "cell_type": "code",
   "execution_count": null,
   "id": "2c19c3cb",
   "metadata": {},
   "outputs": [],
   "source": [
    "image_var = 'ROI'\n",
    "for i in ['Group']:\n",
    "\n",
    "    mikeimc_v2.grouped_graph(adata_subset,\n",
    "                             ROI_id=image_var,\n",
    "                             group_by_obs=i,\n",
    "                             x_axis='population',\n",
    "                             fig_size=(4,4),\n",
    "                             log_scale=False,\n",
    "                             display_tables=True) #If you change display_tables to True, will also do stats on the groups\n",
    "    plt.show()\n",
    "    #plt.savefig(\"leiden0.3_cell_numbers_group_populations.pdf\", format=\"pdf\", bbox_inches=\"tight\")"
   ]
  },
  {
   "cell_type": "code",
   "execution_count": null,
   "id": "eebb05c9",
   "metadata": {},
   "outputs": [],
   "source": [
    "image_var = 'ROI'\n",
    "\n",
    "for i in ['Group']:\n",
    "\n",
    "    mikeimc_v2.grouped_graph(adata_subset,\n",
    "                             ROI_id=image_var,\n",
    "                             group_by_obs=i,\n",
    "                             x_axis='population',\n",
    "                             fig_size=(4, 4),\n",
    "                             log_scale=False, scale_factor=True,\n",
    "                            display_tables=True, crosstab_norm=False) #If you change display_tables to True, will also do stats on the groups\n",
    "    # use crosstab_norm='columns' to plot and do statistics based on cell frequencies per group\n",
    "    plt.show()"
   ]
  },
  {
   "cell_type": "code",
   "execution_count": null,
   "id": "62b8ad26",
   "metadata": {},
   "outputs": [],
   "source": [
    "#stack bar code and extracting number of cells, distribution of each cluster per case or the cluster composition per case\n",
    "#for number of cells - don't use normalize\n",
    "#for distribution of each case per cluster - use normalize = \"index\"\n",
    "#for cluster composition per case - use normalize = \"columns\"\n",
    "tmp = pd.crosstab(adata_subset.obs['population'], adata_subset.obs['Group'], margins=False, normalize = \"columns\")"
   ]
  },
  {
   "cell_type": "code",
   "execution_count": null,
   "id": "8443f8fe",
   "metadata": {},
   "outputs": [],
   "source": [
    "tmp2 = pd.DataFrame.transpose(tmp)"
   ]
  },
  {
   "cell_type": "code",
   "execution_count": null,
   "id": "17736030",
   "metadata": {},
   "outputs": [],
   "source": [
    "#color for stack bars for the disease groups matching the other bar graphs\n",
    "#F08080 - light coral\n",
    "#87CEFA - lightskyblue\n",
    "#D3D3D3 - lightgrey\n",
    "\n",
    "pretty_colors = ['#F08080','#87CEFA','#D3D3D3']\n",
    "color_pal = sb.color_palette('Paired')\n",
    "\n",
    "#colour_palette['colour']\n",
    "tmp2.plot.bar(stacked=True, color=color_pal, figsize=(4, 4)).legend(bbox_to_anchor=(1, 1))\n",
    "plt.savefig(\"leiden0.3_cell_frequencies_group_populations.pdf\", format=\"pdf\", bbox_inches=\"tight\")"
   ]
  },
  {
   "cell_type": "code",
   "execution_count": null,
   "id": "c73b9711",
   "metadata": {
    "scrolled": false
   },
   "outputs": [],
   "source": [
    "#Spatial mapping\n",
    "sb.set_style(\"darkgrid\", {'axes.grid' : False})\n",
    "\n",
    "graph = sb.lmplot(data = adata_subset.obs, x = 'X_loc',y='Y_loc',hue ='population',palette = 'bright',height = 8,col = 'ROI',col_wrap = 6,fit_reg = False, aspect=1)\n",
    "graph.savefig(\"MappedPlots_Leiden0.3_populations.pdf\")"
   ]
  },
  {
   "cell_type": "markdown",
   "id": "9bdbfbcc",
   "metadata": {},
   "source": [
    "# Subset adata and run leiden clustering for each major cell type - strategy 1"
   ]
  },
  {
   "cell_type": "markdown",
   "id": "9f0755c6",
   "metadata": {},
   "source": [
    "Sub clustering example\n",
    "Once you've done the initital subclustering, which could be with a fairly low resolution, you can then do subclustering on specific clusters from previous Leiden analyses\n",
    "resolution - As above. Change this to alter the size of the subclusters of the previous analysis"
   ]
  },
  {
   "cell_type": "code",
   "execution_count": 7,
   "id": "f4853f2e",
   "metadata": {
    "scrolled": true
   },
   "outputs": [
    {
     "data": {
      "text/plain": [
       "0          T cell\n",
       "1          T cell\n",
       "2          T cell\n",
       "3         Myeloid\n",
       "4          T cell\n",
       "           ...   \n",
       "731618    Myeloid\n",
       "731619       RBCs\n",
       "731620     B cell\n",
       "731621    Myeloid\n",
       "731622    Myeloid\n",
       "Name: population, Length: 1486804, dtype: category\n",
       "Categories (6, object): ['B cell', 'Myeloid', 'NK cell', 'RBCs', 'Stroma', 'T cell']"
      ]
     },
     "execution_count": 7,
     "metadata": {},
     "output_type": "execute_result"
    }
   ],
   "source": [
    "adata_subset.obs['population']"
   ]
  },
  {
   "cell_type": "code",
   "execution_count": null,
   "id": "e1d372b3",
   "metadata": {
    "scrolled": true
   },
   "outputs": [],
   "source": [
    "# Myeloid\n",
    "adata_myeloid = adata_subset[adata_subset.obs['population'].isin(['Myeloid'])].copy()\n",
    "sc.pl.heatmap(adata_myeloid, adata_myeloid.var_names, groupby='population', vmax=0.75, cmap = 'viridis', swap_axes=True, save='_myeloid.pdf')"
   ]
  },
  {
   "cell_type": "code",
   "execution_count": null,
   "id": "15ea63eb",
   "metadata": {},
   "outputs": [],
   "source": [
    "# T cells\n",
    "adata_Tcells = adata_subset[adata_subset.obs['population'].isin(['T cell'])].copy()\n",
    "sc.pl.heatmap(adata_Tcells, adata_Tcells.var_names, groupby='population', vmax=0.75, cmap='viridis',swap_axes=True, save='_Tcells.pdf')"
   ]
  },
  {
   "cell_type": "code",
   "execution_count": null,
   "id": "4ed818f5",
   "metadata": {},
   "outputs": [],
   "source": [
    "# B cells\n",
    "adata_Bcells = adata_subset[adata_subset.obs['population'].isin(['B cell'])].copy()\n",
    "sc.pl.heatmap(adata_Bcells, adata_Bcells.var_names, groupby='population', vmax=0.75, cmap='viridis',swap_axes=True, save='_Bcells.pdf')"
   ]
  },
  {
   "cell_type": "code",
   "execution_count": null,
   "id": "468b1582",
   "metadata": {},
   "outputs": [],
   "source": [
    "# Stroma\n",
    "adata_stroma = adata_subset[adata_subset.obs['population'].isin(['Stroma'])].copy()\n",
    "sc.pl.heatmap(adata_stroma, adata_stroma.var_names, groupby='population', vmax=0.75, cmap='viridis',swap_axes=True, save='_Stroma.pdf')"
   ]
  },
  {
   "cell_type": "code",
   "execution_count": null,
   "id": "67b843e9",
   "metadata": {},
   "outputs": [],
   "source": [
    "# RBCs\n",
    "adata_RBC = adata_subset[adata_subset.obs['population'].isin(['RBCs'])].copy()\n",
    "sc.pl.heatmap(adata_RBC, adata_RBC.var_names, groupby='population', vmax=0.75, cmap='viridis',swap_axes=True, save='_RBC.pdf')"
   ]
  },
  {
   "cell_type": "code",
   "execution_count": null,
   "id": "549068cf",
   "metadata": {
    "scrolled": true
   },
   "outputs": [],
   "source": [
    "# NK cells\n",
    "adata_NKcells = adata_subset[adata_subset.obs['population'].isin(['NK cell'])].copy()\n",
    "sc.pl.heatmap(adata_NKcells, adata_NKcells.var_names, groupby='population', vmax=0.75, cmap='viridis',swap_axes=True, save='_NKcells.pdf')"
   ]
  },
  {
   "cell_type": "code",
   "execution_count": 14,
   "id": "965a4423",
   "metadata": {},
   "outputs": [],
   "source": [
    "adata_myeloid.write('./2_h5ad_files/adata_myeloid.h5ad') \n",
    "adata_Tcells.write('./2_h5ad_files/adata_Tcells.h5ad') \n",
    "adata_Bcells.write('./2_h5ad_files/adata_Bcells.h5ad') \n",
    "adata_stroma.write('./2_h5ad_files/adata_stroma.h5ad') \n",
    "adata_RBC.write('./2_h5ad_files/adata_RBC.h5ad') \n",
    "adata_NKcells.write('./2_h5ad_files/adataNKcells.h5ad') "
   ]
  },
  {
   "cell_type": "markdown",
   "id": "14a91751",
   "metadata": {},
   "source": [
    "# Subset adata and run all functions at once - strategy 2"
   ]
  },
  {
   "cell_type": "code",
   "execution_count": null,
   "id": "59ade8c5",
   "metadata": {},
   "outputs": [],
   "source": [
    "# Create a list of the markers we want to use in the subanalysis, in this example we're focusing on our myeloid markers\n",
    "myeloid = ['Iba1','CD14','CD16','CD44','CD11c','CD206','CX3CR1','HLA-DR', 'CD163', 'CD68']"
   ]
  },
  {
   "cell_type": "code",
   "execution_count": null,
   "id": "126988cd",
   "metadata": {},
   "outputs": [],
   "source": [
    "# This will create a brand new adata object with just myeloid cells in \n",
    "adata_myeloid = pop_id.adata_subclustering(adata,\n",
    "                        population_obs='leiden_0.35', #This is the leiden which you want to to use to identify myeloid populations in your original Leiden\n",
    "                        populations=['4'], #List of populations from the above population_obs\n",
    "                        marker_list=myeloid, #List of markers to use\n",
    "                        clustering_resolutions=[0.1, 0.25, 0.4, 0.7], #Clustering resolutions to try\n",
    "                        umap_categories=['ROI','Case'],\n",
    "                        batch_correct='bbknn', #Whether to batch correct, otherwise but None if you dont want to correct\n",
    "                        batch_correct_obs='Case', #Which .obs to use for batch correction\n",
    "                        close_plots=True)"
   ]
  },
  {
   "cell_type": "markdown",
   "id": "2bcbeb5d",
   "metadata": {},
   "source": [
    "his next function will transfer the popuation labels from one adata and .obs to another. This relies upon all cells having a unique ID inthe 'Master_Index' column of .obs"
   ]
  },
  {
   "cell_type": "code",
   "execution_count": null,
   "id": "ee7a59f8",
   "metadata": {},
   "outputs": [],
   "source": [
    "pop_id.transfer_populations(adata_source=adata_myeloid,\n",
    "                                 adata_source_populations_obs='leiden_0.1',\n",
    "                                 adata_target=adata,\n",
    "                                 adata_target_populations_obs='leiden_0.35',\n",
    "                                 common_cell_index='Master_Index',\n",
    "                                 pop_prefix='NEW')"
   ]
  },
  {
   "cell_type": "markdown",
   "id": "2c16a8b8",
   "metadata": {},
   "source": [
    "# Export data"
   ]
  },
  {
   "cell_type": "code",
   "execution_count": null,
   "id": "e8754588",
   "metadata": {},
   "outputs": [],
   "source": [
    "#Make a simplified dataframe to export\n",
    "adata_export = adata_subset3.obs[['Case','ROI','Type','hierarchy','pheno_cluster']].copy()"
   ]
  },
  {
   "cell_type": "code",
   "execution_count": null,
   "id": "e4ee783c",
   "metadata": {},
   "outputs": [],
   "source": [
    "#Split up the X and Y columns from the adata\n",
    "adata_export['X'], adata_export['Y'] = np.split(adata_subset3.obsm['spatial'],[-1],axis=1)\n",
    "#Save to file\n",
    "adata_export.to_csv('adata_cluster_export.csv')"
   ]
  },
  {
   "cell_type": "code",
   "execution_count": null,
   "id": "b145c56d",
   "metadata": {},
   "outputs": [],
   "source": [
    "# export everything except the data using `.write_csvs`.\n",
    "# Set `skip_data=False` if you also want to export the data.\n",
    "adata_subset3.write_csvs(dirname='./', skip_data=False)"
   ]
  }
 ],
 "metadata": {
  "kernelspec": {
   "display_name": "Python 3 (ipykernel)",
   "language": "python",
   "name": "python3"
  },
  "language_info": {
   "codemirror_mode": {
    "name": "ipython",
    "version": 3
   },
   "file_extension": ".py",
   "mimetype": "text/x-python",
   "name": "python",
   "nbconvert_exporter": "python",
   "pygments_lexer": "ipython3",
   "version": "3.9.13"
  }
 },
 "nbformat": 4,
 "nbformat_minor": 5
}
